{
 "cells": [
  {
   "cell_type": "code",
   "execution_count": 22,
   "metadata": {},
   "outputs": [],
   "source": [
    "# Import the 'os' and 'csv' libraries\n",
    "import os\n",
    "import csv"
   ]
  },
  {
   "cell_type": "code",
   "execution_count": 23,
   "metadata": {},
   "outputs": [
    {
     "data": {
      "text/plain": [
       "'../Resources/yahoo_stock.csv'"
      ]
     },
     "execution_count": 23,
     "metadata": {},
     "output_type": "execute_result"
    }
   ],
   "source": [
    "# Set path for importing the CSV file\n",
    "setpath = os.path.join('../','Resources', 'yahoo_stock.csv')\n",
    "setpath"
   ]
  },
  {
   "cell_type": "code",
   "execution_count": 24,
   "metadata": {},
   "outputs": [
    {
     "name": "stdout",
     "output_type": "stream",
     "text": [
      "The day with the greatest daily percent change was 3/13/2020 on that day the stock changed 5.49%.\n",
      "The high of that day was 2711.330078, the low of that day was 2492.370117.\n",
      "The the volme for that day was 8258670000.\n"
     ]
    }
   ],
   "source": [
    "# Open a connection to the comma-delimited csv file\n",
    "with open(setpath,'r') as csvfile:\n",
    "\n",
    "    # Read in the CSV file using csv.DictReader() class\n",
    "    csvreader = csv.DictReader(csvfile, delimiter=',')\n",
    "    \n",
    "    # Create a variable to save our print row and greatest daily percent change\n",
    "    max_pct = 0\n",
    "    printrow = {}\n",
    "    \n",
    "    # Iterate through each row\n",
    "    for row in csvreader:\n",
    "        \n",
    "        # For each row, calculate the daily percent change\n",
    "        pct_change = round(((float(row['Close']) - float(row['Open'])) / float(row['Open']))*100,2)\n",
    "        \n",
    "        # Check if the absolute daily percent change is greater than the previous max\n",
    "        if abs(pct_change) > max_pct:\n",
    "            \n",
    "            # If true, store new greatest daily percent change and print row\n",
    "            max_pct = pct_change\n",
    "            printrow = row\n",
    "            \n",
    "    # Print out the date, stock high, stock low, volume and percent change for the day with the greatest percent change\n",
    "    print(f\"The day with the greatest daily percent change was {printrow['Date']} on that day the stock changed {max_pct}%.\")\n",
    "    print(f\"The high of that day was {printrow['High']}, the low of that day was {printrow['Low']}.\")\n",
    "    print(f\"The the volme for that day was {printrow['Volume']}.\")"
   ]
  },
  {
   "cell_type": "code",
   "execution_count": null,
   "metadata": {},
   "outputs": [],
   "source": []
  }
 ],
 "metadata": {
  "kernelspec": {
   "display_name": "Python 3",
   "language": "python",
   "name": "python3"
  },
  "language_info": {
   "codemirror_mode": {
    "name": "ipython",
    "version": 3
   },
   "file_extension": ".py",
   "mimetype": "text/x-python",
   "name": "python",
   "nbconvert_exporter": "python",
   "pygments_lexer": "ipython3",
   "version": "3.8.8"
  }
 },
 "nbformat": 4,
 "nbformat_minor": 4
}
